{
 "cells": [
  {
   "cell_type": "code",
   "execution_count": 5,
   "metadata": {},
   "outputs": [
    {
     "name": "stdout",
     "output_type": "stream",
     "text": [
      "format input salah\n"
     ]
    }
   ],
   "source": [
    "#3-1(1)\n",
    "masukan = input(\"Masukkan suhu tubuh: \")\n",
    "try:\n",
    "    suhu = int(masukan)\n",
    "    if suhu >= 38:\n",
    "        print(\"Anda demam\")\n",
    "    else:\n",
    "        print(\"Anda tidak demam\")\n",
    "except:\n",
    "    print(\"format input salah\")"
   ]
  },
  {
   "cell_type": "code",
   "execution_count": 10,
   "metadata": {},
   "outputs": [
    {
     "name": "stdout",
     "output_type": "stream",
     "text": [
      "format input salah\n"
     ]
    }
   ],
   "source": [
    "#3-1(2)\n",
    "masukan = input(\"Masukkan suatu bilangan: \")\n",
    "try:\n",
    "    bilangan = int(masukan)\n",
    "    if bilangan > 0:\n",
    "       print(\"Positif\")\n",
    "    elif bilangan < 0:\n",
    "       print(\"Negatif\")\n",
    "    elif bilangan == 0:\n",
    "        print(\"Nol\")\n",
    "except:\n",
    "    print(\"format input salah\")"
   ]
  },
  {
   "cell_type": "code",
   "execution_count": 13,
   "metadata": {},
   "outputs": [
    {
     "name": "stdout",
     "output_type": "stream",
     "text": [
      "format input salah\n"
     ]
    }
   ],
   "source": [
    "#3-1(3)\n",
    "a = input(\"Masukkan bilangan pertama: \")\n",
    "b = input(\"Masukkan bilangan kedua: \")\n",
    "c = input(\"Masukkan bilangan ketiga: \")\n",
    "try:\n",
    "    a = int(a)\n",
    "    b = int(b)\n",
    "    c = int(c)\n",
    "    if a > b and a > c:\n",
    "        print(\"Terbesar: \", a)\n",
    "    elif b > a and b > c:\n",
    "        print(\"Terbesar: \", b)\n",
    "    elif c > a and c > b:\n",
    "        print(\"Terbesar: \", c)\n",
    "except:\n",
    "    print(\"format input salah\")"
   ]
  },
  {
   "cell_type": "code",
   "execution_count": 17,
   "metadata": {},
   "outputs": [
    {
     "name": "stdout",
     "output_type": "stream",
     "text": [
      "negatif\n"
     ]
    }
   ],
   "source": [
    "#3-2\n",
    "bilangan = int(input(\"Masukkan suatu bilangan: \"))\n",
    "number = \"positif\" if bilangan > 0 else \"negatif\" and \"nol\" if bilangan == 0 else \"negatif\"\n",
    "print(number)"
   ]
  },
  {
   "cell_type": "code",
   "execution_count": 24,
   "metadata": {},
   "outputs": [
    {
     "name": "stdout",
     "output_type": "stream",
     "text": [
      "format input tidak valid\n"
     ]
    }
   ],
   "source": [
    "#3-3\n",
    "masukan = input(\"masukkan bulan (1-12): \")\n",
    "try:\n",
    "    bulan = int(masukan)\n",
    "    if bulan <= 0:\n",
    "        print(\"tidak valid\")\n",
    "    elif bulan > 12:\n",
    "        print(\"tidak valid\")\n",
    "    elif bulan == 2:\n",
    "        print(\"jumlah hari = 29\")\n",
    "    elif bulan %2 == 0 and bulan < 8:\n",
    "        print(\"jumlah hari = 30\")\n",
    "    elif bulan %2 == 1 and bulan < 8:\n",
    "        print(\"jumlah hari = 31\")\n",
    "    elif bulan %2 == 1 and bulan >= 8:\n",
    "        print(\"jumlah hari = 30\")\n",
    "    elif bulan %2 == 0 and bulan >= 8:\n",
    "        print(\"jumlah hari = 31\")\n",
    "except:\n",
    "    print(\"format input tidak valid\")"
   ]
  },
  {
   "cell_type": "code",
   "execution_count": 29,
   "metadata": {},
   "outputs": [
    {
     "name": "stdout",
     "output_type": "stream",
     "text": [
      "format input salah\n"
     ]
    }
   ],
   "source": [
    "#3-4\n",
    "masukan1 = input(\"masukan sisi pertama:\")\n",
    "masukan2 = input(\"masukan sisi kedua:\")\n",
    "masukan3 = input(\"masukan sisi ketiga:\")\n",
    "try:\n",
    "    satu = int(masukan1)\n",
    "    dua = int(masukan2)\n",
    "    tiga = int(masukan3)\n",
    "    if satu <= 0 and dua <= 0 and tiga <= 0:\n",
    "        print(\"tidak valid\")\n",
    "    elif satu == dua != tiga or satu != dua == tiga or satu == tiga != dua:\n",
    "        print(\"2 bilangan sama\")\n",
    "    elif satu == tiga and satu == dua and dua == tiga:\n",
    "        print(\"3 bilangan sama\")\n",
    "    else:\n",
    "        print(\"tidak ada bilangan yang sama\")\n",
    "except:\n",
    "    print(\"format input salah\")"
   ]
  }
 ],
 "metadata": {
  "kernelspec": {
   "display_name": "Python 3",
   "language": "python",
   "name": "python3"
  },
  "language_info": {
   "codemirror_mode": {
    "name": "ipython",
    "version": 3
   },
   "file_extension": ".py",
   "mimetype": "text/x-python",
   "name": "python",
   "nbconvert_exporter": "python",
   "pygments_lexer": "ipython3",
   "version": "3.12.0"
  }
 },
 "nbformat": 4,
 "nbformat_minor": 2
}
